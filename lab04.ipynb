{
 "cells": [
  {
   "cell_type": "markdown",
   "metadata": {},
   "source": [
    "# Lab 04: Connected Component Labelling\n",
    "Name: **Raja Hasnain Anwar**<br/>\n",
    "Registration: **192135**"
   ]
  },
  {
   "cell_type": "code",
   "execution_count": 1,
   "metadata": {},
   "outputs": [],
   "source": [
    "from PIL import Image\n",
    "import numpy as np\n",
    "from matplotlib import pyplot as plt"
   ]
  },
  {
   "cell_type": "markdown",
   "metadata": {},
   "source": [
    "Function to get connected components using 2-neighbors and label them individually"
   ]
  },
  {
   "cell_type": "code",
   "execution_count": 2,
   "metadata": {},
   "outputs": [],
   "source": [
    "def findComponents(file_path, threshold=128):\n",
    "    img = Image.open(file_path).convert('L')\n",
    "    width, height = img.size\n",
    "    print(width, height)\n",
    "    img_np = np.array(img, dtype=np.uint8).T\n",
    "    img_np[ img_np >= threshold ] = 255; background = 255 # make background totally white\n",
    "    img_np[ img_np < threshold ] = 0; foreground = 0\n",
    "    \n",
    "    img_np = np.pad(img_np, 1, 'constant', constant_values=0) # pad with zeros\n",
    "    \n",
    "    mask = np.zeros((width, height), dtype=np.uint8) # output mask\n",
    "    preferences = dict() # dictionary for second pass\n",
    "    label = 1 # current label\n",
    "    \n",
    "    # first pass\n",
    "    for x in range(1,width):\n",
    "        for y in range(1,height):\n",
    "            if img_np[x,y] == background:\n",
    "                continue\n",
    "            \n",
    "            if mask[x-2, y-1] == foreground and mask[x-1, y-2] == foreground:\n",
    "                mask[x-1,y-1] = label\n",
    "                label += 1\n",
    "            elif mask[x-2, y-1] == foreground and mask[x-1, y-2] != foreground:\n",
    "                mask[x-1,y-1] = mask[x-1, y-2]\n",
    "            elif mask[x-2, y-1] != foreground and mask[x-1, y-2] == foreground:\n",
    "                mask[x-1,y-1] = mask[x-2, y-1]\n",
    "            else:\n",
    "                mask[x-1,y-1] = min(mask[x-2, y-1], mask[x-1, y-2])\n",
    "                preferences[max(mask[x-2, y-1], mask[x-1, y-2])] =  mask[x-1,y-1]\n",
    "    \n",
    "    # second pass\n",
    "    for x in range(width):\n",
    "        for y in range(height):\n",
    "            try:\n",
    "                mask[x,y] = preferences[ mask[x,y] ]\n",
    "            except:\n",
    "                continue\n",
    "    \n",
    "    plt.imshow(mask.T, cmap='nipy_spectral')"
   ]
  },
  {
   "cell_type": "code",
   "execution_count": 3,
   "metadata": {},
   "outputs": [
    {
     "name": "stdout",
     "output_type": "stream",
     "text": [
      "508 331\n"
     ]
    },
    {
     "data": {
      "image/png": "[encoded data removed]",
      "text/plain": [
       "<matplotlib.figure.Figure at 0x148e799c0b8>"
      ]
     },
     "metadata": {},
     "output_type": "display_data"
    }
   ],
   "source": [
    "findComponents('Lab4-image.png', 128)"
   ]
  }
 ],
 "metadata": {
  "kernelspec": {
   "display_name": "Python 3",
   "language": "python",
   "name": "python3"
  },
  "language_info": {
   "codemirror_mode": {
    "name": "ipython",
    "version": 3
   },
   "file_extension": ".py",
   "mimetype": "text/x-python",
   "name": "python",
   "nbconvert_exporter": "python",
   "pygments_lexer": "ipython3",
   "version": "3.6.3"
  }
 },
 "nbformat": 4,
 "nbformat_minor": 2
}
